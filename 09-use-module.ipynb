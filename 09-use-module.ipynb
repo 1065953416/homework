{
 "cells": [
  {
   "cell_type": "code",
   "execution_count": 8,
   "metadata": {},
   "outputs": [],
   "source": [
    "import pandas as pd\n",
    "import mytools\n",
    "from pyreadstat import pyreadstat"
   ]
  },
  {
   "cell_type": "code",
   "execution_count": 9,
   "metadata": {},
   "outputs": [],
   "source": [
    "作业表, metadata = pyreadstat.read_sav(r\"data/identity.sav\",apply_value_formats=True,formats_as_ordered_category=True)"
   ]
  },
  {
   "cell_type": "code",
   "execution_count": 10,
   "metadata": {},
   "outputs": [
    {
     "data": {
      "text/html": [
       "<div>\n",
       "<style scoped>\n",
       "    .dataframe tbody tr th:only-of-type {\n",
       "        vertical-align: middle;\n",
       "    }\n",
       "\n",
       "    .dataframe tbody tr th {\n",
       "        vertical-align: top;\n",
       "    }\n",
       "\n",
       "    .dataframe thead th {\n",
       "        text-align: right;\n",
       "    }\n",
       "</style>\n",
       "<table border=\"1\" class=\"dataframe\">\n",
       "  <thead>\n",
       "    <tr style=\"text-align: right;\">\n",
       "      <th></th>\n",
       "      <th>count</th>\n",
       "      <th>比例</th>\n",
       "      <th>累计比例</th>\n",
       "    </tr>\n",
       "    <tr>\n",
       "      <th>你是否了解重活民族的传统节日</th>\n",
       "      <th></th>\n",
       "      <th></th>\n",
       "      <th></th>\n",
       "    </tr>\n",
       "  </thead>\n",
       "  <tbody>\n",
       "    <tr>\n",
       "      <th>完全不了解</th>\n",
       "      <td>16</td>\n",
       "      <td>0.018497</td>\n",
       "      <td>0.018497</td>\n",
       "    </tr>\n",
       "    <tr>\n",
       "      <th>不太了解</th>\n",
       "      <td>124</td>\n",
       "      <td>0.143353</td>\n",
       "      <td>0.161850</td>\n",
       "    </tr>\n",
       "    <tr>\n",
       "      <th>比较了解</th>\n",
       "      <td>521</td>\n",
       "      <td>0.602312</td>\n",
       "      <td>0.764162</td>\n",
       "    </tr>\n",
       "    <tr>\n",
       "      <th>完全了解</th>\n",
       "      <td>204</td>\n",
       "      <td>0.235838</td>\n",
       "      <td>1.000000</td>\n",
       "    </tr>\n",
       "  </tbody>\n",
       "</table>\n",
       "</div>"
      ],
      "text/plain": [
       "                count        比例      累计比例\n",
       "你是否了解重活民族的传统节日                           \n",
       "完全不了解              16  0.018497  0.018497\n",
       "不太了解              124  0.143353  0.161850\n",
       "比较了解              521  0.602312  0.764162\n",
       "完全了解              204  0.235838  1.000000"
      ]
     },
     "execution_count": 10,
     "metadata": {},
     "output_type": "execute_result"
    }
   ],
   "source": [
    "mytools.有序变量描述统计函数(作业表,\"你是否了解重活民族的传统节日\")"
   ]
  }
 ],
 "metadata": {
  "kernelspec": {
   "display_name": "Python 3",
   "language": "python",
   "name": "python3"
  },
  "language_info": {
   "codemirror_mode": {
    "name": "ipython",
    "version": 3
   },
   "file_extension": ".py",
   "mimetype": "text/x-python",
   "name": "python",
   "nbconvert_exporter": "python",
   "pygments_lexer": "ipython3",
   "version": "3.8.10"
  }
 },
 "nbformat": 4,
 "nbformat_minor": 2
}
